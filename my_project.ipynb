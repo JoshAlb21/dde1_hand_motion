{
 "cells": [
  {
   "cell_type": "markdown",
   "id": "4b70eef1-e2d1-4b29-8546-bb140730fdc1",
   "metadata": {},
   "source": [
    "# 1. General"
   ]
  },
  {
   "cell_type": "markdown",
   "id": "b42d71b5-2572-4d35-8576-a420e5a95235",
   "metadata": {},
   "source": [
    "This notebooks uses the following dataset <br>\n",
    "https://archive.ics.uci.edu/ml/datasets/Motion+Capture+Hand+Postures"
   ]
  },
  {
   "cell_type": "markdown",
   "id": "d5135214-99c1-4a37-a8bd-f599f715d139",
   "metadata": {},
   "source": [
    "# 2. Preparing the enviroment"
   ]
  },
  {
   "cell_type": "markdown",
   "id": "2c0e371b-a8fb-4546-a596-19e5c60a0d83",
   "metadata": {
    "jp-MarkdownHeadingCollapsed": true,
    "tags": []
   },
   "source": [
    "# 3. Pre-processing\n",
    "\n"
   ]
  },
  {
   "cell_type": "markdown",
   "id": "f7dbaf5d-96bf-4e9c-baf4-905ed859f7c2",
   "metadata": {},
   "source": [
    "## Loading the Data"
   ]
  },
  {
   "cell_type": "markdown",
   "id": "10ab41a1-9b02-4916-9089-38a43d021429",
   "metadata": {
    "jp-MarkdownHeadingCollapsed": true,
    "tags": []
   },
   "source": [
    "## Data Exploration"
   ]
  },
  {
   "cell_type": "markdown",
   "id": "d60989e0-5d3b-4ad2-95c6-1fbdaa290726",
   "metadata": {},
   "source": [
    "### Data Visualization"
   ]
  },
  {
   "cell_type": "markdown",
   "id": "c64c8a84-d849-4972-987f-3062de705890",
   "metadata": {},
   "source": [
    "### Identify Values"
   ]
  },
  {
   "cell_type": "markdown",
   "id": "f6e5717a-e460-4985-8ffd-e90171aac4d2",
   "metadata": {},
   "source": [
    "### Preparing Data"
   ]
  },
  {
   "cell_type": "markdown",
   "id": "49e9e98c-73f3-488c-9428-09c0a26c28ec",
   "metadata": {},
   "source": [
    "label, standardisation"
   ]
  },
  {
   "cell_type": "markdown",
   "id": "64d93751-254a-4e14-8206-57c62006cc1f",
   "metadata": {
    "jp-MarkdownHeadingCollapsed": true,
    "tags": []
   },
   "source": [
    "# 4. All Models"
   ]
  },
  {
   "cell_type": "markdown",
   "id": "3c1e21ae-ecd5-407c-9780-ed5ae5fd8371",
   "metadata": {},
   "source": [
    "Logistic Regression\n",
    "https://scikit-learn.org/stable/modules/linear_model.html#logistic-regression\n",
    "\n",
    "Gradient Descent\n",
    "\n",
    "Random Forests\n",
    "\n",
    "Boosting (LightGBM)\n",
    "https://lightgbm.readthedocs.io/en/latest/"
   ]
  },
  {
   "cell_type": "markdown",
   "id": "a9a301e0-6c8d-4cbb-a351-3172541c270b",
   "metadata": {
    "tags": []
   },
   "source": [
    "## Model 1\n"
   ]
  },
  {
   "cell_type": "markdown",
   "id": "57d86898-22d2-41d8-9bfb-424eb0bbffc6",
   "metadata": {
    "jp-MarkdownHeadingCollapsed": true,
    "tags": []
   },
   "source": [
    "### Training"
   ]
  },
  {
   "cell_type": "markdown",
   "id": "314f84c7-3d1c-47b1-9cc2-826b82d14bc1",
   "metadata": {
    "tags": []
   },
   "source": [
    "### Evaluation"
   ]
  },
  {
   "cell_type": "markdown",
   "id": "2be58b0d-4ccb-44b8-b4d4-775cf717f2bc",
   "metadata": {},
   "source": [
    "Confusion Matrix\n",
    "PR Curve\n",
    "ROC Curve"
   ]
  },
  {
   "cell_type": "markdown",
   "id": "96099216-ad7d-4b34-95f0-78142fd66381",
   "metadata": {},
   "source": [
    "### Discussion"
   ]
  },
  {
   "cell_type": "markdown",
   "id": "81443258-bf9e-4898-a68d-3f2793d3fb51",
   "metadata": {
    "tags": []
   },
   "source": [
    "## Model 2\n"
   ]
  },
  {
   "cell_type": "markdown",
   "id": "feb6e58a-1ec3-4c67-a9d3-ecb525c9855f",
   "metadata": {
    "jp-MarkdownHeadingCollapsed": true,
    "tags": []
   },
   "source": [
    "### Training"
   ]
  },
  {
   "cell_type": "markdown",
   "id": "092be0a4-a71d-4c7a-8a63-85877163de51",
   "metadata": {},
   "source": [
    "### Evaluation"
   ]
  },
  {
   "cell_type": "markdown",
   "id": "07c53728-5edd-4dbf-9019-9718a117ff10",
   "metadata": {
    "tags": []
   },
   "source": [
    "### Discussion"
   ]
  },
  {
   "cell_type": "markdown",
   "id": "c5ea518c-76ad-412d-b9e9-2208e35031fb",
   "metadata": {},
   "source": [
    "# 5. Overall Comparison"
   ]
  }
 ],
 "metadata": {
  "kernelspec": {
   "display_name": "Python 3 (ipykernel)",
   "language": "python",
   "name": "python3"
  },
  "language_info": {
   "codemirror_mode": {
    "name": "ipython",
    "version": 3
   },
   "file_extension": ".py",
   "mimetype": "text/x-python",
   "name": "python",
   "nbconvert_exporter": "python",
   "pygments_lexer": "ipython3",
   "version": "3.11.0"
  }
 },
 "nbformat": 4,
 "nbformat_minor": 5
}
